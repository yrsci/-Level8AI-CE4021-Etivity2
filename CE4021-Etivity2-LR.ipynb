{
 "cells": [
  {
   "cell_type": "markdown",
   "metadata": {},
   "source": [
    "## Notebook E-tivity 2 CE4021 Linear Regression"
   ]
  },
  {
   "cell_type": "markdown",
   "metadata": {},
   "source": [
    "Student name: Yvonne Ryan"
   ]
  },
  {
   "cell_type": "markdown",
   "metadata": {},
   "source": [
    "Student ID: 21208298"
   ]
  },
  {
   "cell_type": "markdown",
   "metadata": {},
   "source": [
    "<hr style=\"border:2px solid gray\"> </hr>"
   ]
  },
  {
   "cell_type": "markdown",
   "metadata": {},
   "source": [
    "## Imports"
   ]
  },
  {
   "cell_type": "code",
   "execution_count": 126,
   "metadata": {},
   "outputs": [],
   "source": [
    "import numpy as np\n",
    "import matplotlib.pyplot as plt"
   ]
  },
  {
   "cell_type": "markdown",
   "metadata": {},
   "source": [
    "If you believe required imports are missing, please contact your moderator."
   ]
  },
  {
   "cell_type": "markdown",
   "metadata": {},
   "source": [
    "<hr style=\"border:2px solid gray\"> </hr>"
   ]
  },
  {
   "cell_type": "markdown",
   "metadata": {},
   "source": [
    "## Reference Implementation"
   ]
  },
  {
   "cell_type": "code",
   "execution_count": 127,
   "metadata": {},
   "outputs": [],
   "source": [
    "def linreg_weights(X,y):\n",
    "    # Calculation of weights using pseudo-inverse. Note that X needs to contain the bias of 1\n",
    "    return np.linalg.inv((X.T.dot(X))).dot(X.T).dot(y)"
   ]
  },
  {
   "cell_type": "code",
   "execution_count": 128,
   "metadata": {},
   "outputs": [],
   "source": [
    "def linreg_predict(w,X):\n",
    "    # Calculation of outputs given weights and data (X). Note that X needs to contain the bias of 1. \n",
    "    out=[]\n",
    "    for x in X:\n",
    "        out.append(w.T.dot(x))\n",
    "    return np.array(out)"
   ]
  },
  {
   "cell_type": "markdown",
   "metadata": {},
   "source": [
    "Load data from file (including bias of 1)"
   ]
  },
  {
   "cell_type": "code",
   "execution_count": 163,
   "metadata": {},
   "outputs": [],
   "source": [
    "data = np.loadtxt('lr_data.csv', delimiter=',')\n",
    "X = data[:,0:2]\n",
    "y= [[data[i,2]] for i in range(0,len(data[:,2]))]"
   ]
  },
  {
   "cell_type": "markdown",
   "metadata": {},
   "source": [
    "Apply data to linear regression algorithm to obtain weights"
   ]
  },
  {
   "cell_type": "code",
   "execution_count": 130,
   "metadata": {},
   "outputs": [
    {
     "data": {
      "text/plain": [
       "array([[-99.46431881],\n",
       "       [564.20389249]])"
      ]
     },
     "execution_count": 130,
     "metadata": {},
     "output_type": "execute_result"
    }
   ],
   "source": [
    "weights = linreg_weights(X,y)\n",
    "weights"
   ]
  },
  {
   "cell_type": "code",
   "execution_count": 131,
   "metadata": {},
   "outputs": [
    {
     "data": {
      "text/plain": [
       "(0.0, 3.0, -100.0, 1500.0)"
      ]
     },
     "execution_count": 131,
     "metadata": {},
     "output_type": "execute_result"
    },
    {
     "data": {
      "image/png": "[encoded data removed]",
      "text/plain": [
       "<Figure size 432x288 with 1 Axes>"
      ]
     },
     "metadata": {
      "needs_background": "light"
     },
     "output_type": "display_data"
    }
   ],
   "source": [
    "ind = np.arange(0,2.8,0.1)\n",
    "plt.plot(X[:,1],y,'.')\n",
    "plt.plot(ind, ind*weights[1]+weights[0],'r')\n",
    "plt.axis([0, 3, -100, 1500])"
   ]
  },
  {
   "cell_type": "markdown",
   "metadata": {},
   "source": [
    "<hr style=\"border:2px solid gray\"> </hr>"
   ]
  },
  {
   "cell_type": "markdown",
   "metadata": {},
   "source": [
    "## Task"
   ]
  },
  {
   "cell_type": "markdown",
   "metadata": {},
   "source": [
    "You may add as many cells as you require to complete this task."
   ]
  },
  {
   "cell_type": "markdown",
   "metadata": {},
   "source": [
    "### Solution"
   ]
  },
  {
   "cell_type": "markdown",
   "metadata": {},
   "source": [
    "#### 1. Matrix Operations\n",
    "First, we define 3 matrix operations: Transpose, Multiply and Invert. \n",
    "\n",
    "##### 1.1 Transpose:\n",
    "Transposing a matrix \"swaps\" the indices of the rows and the indices of the columns: i.e. element $A_{ij}$ of a matrix $A$ becomes element $A_{ji}$ in the transpose of $A$, written $A^{\\mathsf{T}}$. For example:\n",
    "$$A = \\begin{bmatrix} a & b\\\\c & d \\end{bmatrix} \\Rightarrow A^{\\mathsf{T}} = \\begin{bmatrix} a & c\\\\b & d \\end{bmatrix}$$\n",
    "\n",
    "In the next code block, we define the function *matrix_tran* to perform the transpose operation:"
   ]
  },
  {
   "cell_type": "code",
   "execution_count": 196,
   "metadata": {},
   "outputs": [],
   "source": [
    "def matrix_tran(A):\n",
    "    '''\n",
    "    Calculates the transpose of a matrix A.\n",
    "    ''' \n",
    "    \n",
    "    try:\n",
    "        # Store the row & column counts in new variables for ease of use\n",
    "        n_rows, n_cols = len(A), len(A[0])\n",
    "\n",
    "        # Append the elements of A to a single list in the transposed order\n",
    "        element_list = []\n",
    "        for i in range(0, n_cols):\n",
    "            for j in range(0, n_rows):\n",
    "                element_list.append(A[j][i])\n",
    "\n",
    "        # Split the list of elements into new lists corresponding to each row of \n",
    "        # the transposed matrix; append these to a list T\n",
    "        T = []\n",
    "        for i in range(0, len(element_list), n_rows):\n",
    "            n = i + n_rows\n",
    "            T.append(element_list[i:n])\n",
    "\n",
    "        # Return the newly-constructed transpose of A\n",
    "        return T\n",
    "    \n",
    "    except (TypeError, ValueError):\n",
    "        print('Error calculating transpose: All matrix elements must be numeric.')\n",
    "\n",
    "    except (IndexError):\n",
    "        print('Error calculating transpose: Input must be a list of lists.')\n",
    "        "
   ]
  },
  {
   "cell_type": "markdown",
   "metadata": {},
   "source": [
    "##### 1.2 Multiply:\n",
    "Multiplying two matrices $A$ and $B$ produces a matrix $C$, where each element $C_{ij}$ is calculated by taking the dot product of row $i$ in $A$ with column $j$ in $B$. Note that this requires that the number of rows in $A$ equal the number of rows in $B$. For example:\n",
    "\n",
    "$$A = \\begin{bmatrix} a & b\\\\c & d \\end{bmatrix}\\text{, } B= \\begin{bmatrix} e & f\\\\g & h \\end{bmatrix} \\Rightarrow AB = C = \\begin{bmatrix} ae + bg & af + bh\\\\ce + dg & cf + dh \\end{bmatrix}$$\n",
    "\n",
    "In the next code block, we define the function *matrix_mult* to perform the matrix multiplication operation."
   ]
  },
  {
   "cell_type": "code",
   "execution_count": 197,
   "metadata": {},
   "outputs": [],
   "source": [
    "def matrix_mult(A,B):\n",
    "    '''\n",
    "    Calculates the product of 2 matrices.\n",
    "    '''\n",
    "    \n",
    "    # Check that input matrix dimensions are compatible for matrix multiplication   \n",
    "    if len(A[0]) == len(B):\n",
    "        \n",
    "        # Create an empty list of lists to hold the resulting product\n",
    "        # The number of sublists equals the number of rows in the final product\n",
    "        AB = [ [] for x in range(0, len(A))]\n",
    "\n",
    "        # Perform the multiplication operation\n",
    "        # Iterate by row index of A and column index of B to select \n",
    "        # the correct element ij in the product AB\n",
    "        for i in range(0, len(A)):\n",
    "            for j in range(0, len(B[0])):\n",
    "                \n",
    "                # Calculate each element ij in the product AB\n",
    "                term = 0\n",
    "                for k in range(0, len(B)):\n",
    "                    try:\n",
    "                        term += A[i][k] * B[k][j]\n",
    "                    except (TypeError, ValueError):\n",
    "                        print('Error calculating product: All matrix elements must be numeric.')\n",
    "                    except (IndexError):\n",
    "                        print('Error calculating product: Input must be a list of lists.')\n",
    "                    \n",
    "                # Append the new term to the correct row in the output matrix\n",
    "                AB[i].append(term)\n",
    "        \n",
    "        return AB \n",
    "\n",
    "    # If the matrix dimensions are incompatible, print string for user\n",
    "    else:\n",
    "        print(\"Matrix dimensions not suitable for calculating product.\\nThe no. of columns in the left-hand matrix must match the no. of rows in the right-hand matrix.\")"
   ]
  },
  {
   "cell_type": "markdown",
   "metadata": {},
   "source": [
    "##### 1.3. Inverse:\n",
    "The inverse $A^{-1}$ of an invertible matrix $A$ is defined as the matrix with which $A$ may be multiplied to produce the identity matrix $I$, i.e. $AA^{-1} = A^{-1}A = I$. Not all matrices are invertible. The inverse of a 2x2 invertible matrix may be found as follows:\n",
    "\n",
    "$$A = \\begin{bmatrix} a & b\\\\c & d \\end{bmatrix}\\Rightarrow A^{-1} = \\frac{1}{\\text{det}\\left(A\\right)} \\begin{bmatrix} d & -b\\\\-c & a \\end{bmatrix}$$\n",
    "\n",
    "This definition includes the determinant of the matrix, $\\text{det}\\left(A\\right)$, which is a scalar value given by:\n",
    "\n",
    "$$\\text{det}\\left(A\\right) = \\begin{vmatrix} a & b\\\\c & d \\end{vmatrix} = | ad - bc | $$\n",
    "\n",
    "In the next code block, we define the function *matrix_inv* to perform the matrix multiplication operation."
   ]
  },
  {
   "cell_type": "code",
   "execution_count": 198,
   "metadata": {},
   "outputs": [],
   "source": [
    "def matrix_inv(A):\n",
    "    '''\n",
    "    Calculates the inverse of a 2x2 matrix.\n",
    "    '''\n",
    "    \n",
    "    try:\n",
    "        if len(A) == 2 and len(A[0]) == 2 and len(A[1]) == 2:\n",
    "            # Define a subfunction to calculate the determinant, to use in inverse calculation\n",
    "            def det(A):\n",
    "                '''\n",
    "                Calculates the determinant of a 2x2 matrix.\n",
    "                '''\n",
    "                return float(A[0][0]*A[1][1]) - (A[0][1]*A[1][0])\n",
    "\n",
    "            # Calculate the inverse\n",
    "            # Create a new matrix corresponding to the inverse before multiplying by 1/determinant\n",
    "            A_inv = [[A[1][1], -1 * A[0][1]], [-1 * A[1][0], A[0][0]]]\n",
    "\n",
    "            # Iterate through each element & multiply each by 1/determinant\n",
    "            for i in range(0,len(A_inv)):\n",
    "                for j in range(0,len(A_inv[0])):\n",
    "                    A_inv[i][j] *= det(A)**(-1)\n",
    "\n",
    "        else:\n",
    "            print('Error calculating inverse: Input must be a 2x2 matrix.')\n",
    "            \n",
    "    except (TypeError, ValueError):\n",
    "        print('Error calculating inverse: All matrix elements must be numeric.')\n",
    "\n",
    "    except (IndexError):\n",
    "        print('Error calculating inverse: Input must be a list of lists.')\n",
    "    \n",
    "                \n",
    "    return A_inv"
   ]
  },
  {
   "cell_type": "markdown",
   "metadata": {},
   "source": [
    "#### Linear Regression Functions\n",
    "Now we can reproduce the functions *linreg_weights* and *linreg_predict* using the three matrix operation functions.\n",
    "\n",
    "##### 2.1 Fit\n",
    "First, we define the function *fit*, which calculates the weight vector $\\overrightarrow{w} = \\begin{bmatrix} w_1\\\\ w_2 \\end{bmatrix}$\n",
    "\n",
    "The weight vector elements are such that the product of the $n$ x 2 matrix of input data $X$ with $\\overrightarrow{w}$ produces the $n$ x 1 vector of output data $\\overrightarrow{y}$. The weight vector $\\overrightarrow{w}$ is derived from this relationship as follows:\n",
    "\n",
    "$$ X \\overrightarrow{w} = \\overrightarrow{y} $$\n",
    "$$ \\Rightarrow X^{\\mathsf{T}}X  \\overrightarrow{w} = X^{\\mathsf{T}} \\overrightarrow{y} $$\n",
    "$$ \\Rightarrow \\overrightarrow{w} =  \\left(X^{\\mathsf{T}}X\\right)^{-1}  X^{\\mathsf{T}} \\overrightarrow{y} $$\n",
    "\n",
    "$\\overrightarrow{w}$ may then be used with a new set of input data to produce a new, 'predicted' set of outputs.\n",
    "\n",
    "The next code block implements the last line of the above derivation to calculate the weight vector, using the *matrix_tran*, *matrix_mult* and *matrix_inv* functions."
   ]
  },
  {
   "cell_type": "code",
   "execution_count": 199,
   "metadata": {},
   "outputs": [],
   "source": [
    "def fit(X,y):\n",
    "    '''\n",
    "    Calculate weights for the linear regression.\n",
    "    '''  \n",
    "    # Perform the calculation in one step and return the result\n",
    "    return matrix_mult(matrix_inv(matrix_mult(matrix_tran(X),X)), matrix_mult(matrix_tran(X), y))"
   ]
  },
  {
   "cell_type": "markdown",
   "metadata": {},
   "source": [
    "##### 2.2 Predict\n",
    "\n",
    "Next we define a function to apply the weights vector $\\overrightarrow{w}$ to an input dataset $X$, again an $n$ x 2 matrix. This produces an $n$ x 1 vector of predicted outputs, $\\overrightarrow{y}$."
   ]
  },
  {
   "cell_type": "code",
   "execution_count": 200,
   "metadata": {},
   "outputs": [],
   "source": [
    "def predict(w,X):\n",
    "    '''\n",
    "    Calculate predicted outputs based on weights vector w and input dataset X.\n",
    "    '''\n",
    "    \n",
    "    # Create empty list to hold outputs\n",
    "    y = []\n",
    "    \n",
    "    # Iterate through each row in input matrix X\n",
    "    for x in X:\n",
    "        # Convert the matrix representation of the row (list of lists) into vector representation (list)\n",
    "        list_x = []\n",
    "        for val in x:\n",
    "            list_x.append(float(val))\n",
    "        \n",
    "        # Calculate the predicted output y for this input vector x\n",
    "        # Note that x is also transposed here as it is the wrong orientation when read from X \n",
    "        y.append(matrix_mult(matrix_tran(w), matrix_tran([x]))[0])\n",
    "    \n",
    "    return(y)"
   ]
  },
  {
   "cell_type": "markdown",
   "metadata": {},
   "source": [
    "##### 2.3 Weight Parameters\n",
    "\n",
    "Next we define a small function to return the weight parameters $w_1$ and $w_2$ from the *fit* function."
   ]
  },
  {
   "cell_type": "code",
   "execution_count": 201,
   "metadata": {},
   "outputs": [],
   "source": [
    "def get_params(w):\n",
    "    '''\n",
    "    A simple function to return the weights found by the fit function.\n",
    "    Takes the weight vector w as input, i.e. the vector produced by the \n",
    "    fit function. \n",
    "    '''\n",
    "    # Select the elements from the input vector and return these\n",
    "    return w[0][0], w[1][0]"
   ]
  },
  {
   "cell_type": "markdown",
   "metadata": {},
   "source": [
    "#### 3. Other Functions \n",
    "\n",
    "##### 3.1 Matrix Printing \n",
    "The following function *matrix_print* enables user-readable printing of matrix output. Given an input matrix, it returns a correctly-formatted string which, when printed, displays the matrix in a legible way, similar to how Python prints numpy matrices."
   ]
  },
  {
   "cell_type": "code",
   "execution_count": 202,
   "metadata": {},
   "outputs": [],
   "source": [
    "def matrix_print(A):\n",
    "    '''\n",
    "    Returns a string representation of matrix A formatted for improved readability.\n",
    "    '''\n",
    "    \n",
    "    # If A only has one row, the full string can be constructed in one step\n",
    "    if len(A) == 1:\n",
    "        string = '[{}]'.format(A[0])\n",
    "        \n",
    "    # If A has more than one row, construct the string row-by-row\n",
    "    else:\n",
    "        string = '[{}\\n'.format(A[0])\n",
    "        for i in range(1,len(A)-1):\n",
    "            string += ' {}\\n'.format(A[i])\n",
    "        string += ' {}]'.format(A[-1])\n",
    "    \n",
    "    return string"
   ]
  },
  {
   "cell_type": "markdown",
   "metadata": {},
   "source": [
    "### Testing"
   ]
  },
  {
   "cell_type": "code",
   "execution_count": 213,
   "metadata": {},
   "outputs": [],
   "source": [
    "# Test matrices\n",
    "\n",
    "# M is a 4x3 matrix\n",
    "M = [[1,2,3],[4,5,6],[7,8,9],[10,11,12]]\n",
    "\n",
    "# N is a 3x2 matrix\n",
    "N = [[1,2],[3,4],[5,6]]\n",
    "\n",
    "# P is a 3x3 matrix\n",
    "P = [[4,5,6],[7,8,9],[10,11,12]]\n",
    "\n",
    "# A is a 1x2 matrix\n",
    "A = [[1,2]]\n",
    "\n",
    "# B is a 2x1 matrix\n",
    "B = [[2],[3]]\n",
    "\n",
    "# C & D are 2x2 matrices\n",
    "C = [[5, 10], [15, 20]]\n",
    "D = [[1, 2], [3, 4]]\n",
    "\n",
    "# F is a 2 x 2 matrix containing a string\n",
    "F = [[5, 'b'], [15, 20]]\n",
    "\n",
    "# G is a simple list\n",
    "G = [1, 2, 3, 4, 5]\n",
    "\n",
    "# H is a string\n",
    "H = 'I am not a valid matrix'"
   ]
  },
  {
   "cell_type": "code",
   "execution_count": 205,
   "metadata": {},
   "outputs": [
    {
     "name": "stdout",
     "output_type": "stream",
     "text": [
      "Print raw list representation of a matrix: \n",
      "[[1, 2, 3], [4, 5, 6], [7, 8, 9], [10, 11, 12]]\n",
      "\n",
      "Print the same matrix in readable manner: \n",
      "[[1, 2, 3]\n",
      " [4, 5, 6]\n",
      " [7, 8, 9]\n",
      " [10, 11, 12]]\n",
      "\n"
     ]
    }
   ],
   "source": [
    "# Demonstrate the matrix_print function\n",
    "\n",
    "# Change the example matrix here:\n",
    "matrix = M\n",
    "\n",
    "print('Print raw list representation of a matrix: \\n{}\\n'.format(matrix))\n",
    "\n",
    "print('Print the same matrix in readable manner: \\n{}\\n'.format(matrix_print(matrix)))"
   ]
  },
  {
   "cell_type": "code",
   "execution_count": 206,
   "metadata": {},
   "outputs": [
    {
     "name": "stdout",
     "output_type": "stream",
     "text": [
      "Given the following matrix: \n",
      "[[1, 2]\n",
      " [3, 4]\n",
      " [5, 6]]\n",
      "\n",
      "Its transpose is: \n",
      "[[1, 3, 5]\n",
      " [2, 4, 6]]\n",
      "\n"
     ]
    }
   ],
   "source": [
    "# Demonstrate the matrix_tran function. Format the printed output using matrix_print for legibility.\n",
    "\n",
    "# Change the example matrix here:\n",
    "matrix = N\n",
    "\n",
    "print('Given the following matrix: \\n{}\\n'.format(matrix_print(matrix)))\n",
    "\n",
    "print('Its transpose is: \\n{}\\n'.format(matrix_print(matrix_tran(matrix))))"
   ]
  },
  {
   "cell_type": "code",
   "execution_count": 214,
   "metadata": {},
   "outputs": [
    {
     "name": "stdout",
     "output_type": "stream",
     "text": [
      "M = \n",
      "[[1, 2, 3]\n",
      " [4, 5, 6]\n",
      " [7, 8, 9]\n",
      " [10, 11, 12]]\n",
      "\n",
      "N = \n",
      "[[1, 2]\n",
      " [3, 4]\n",
      " [5, 6]]\n",
      "\n",
      "The product MN = \n",
      "[[22, 28]\n",
      " [49, 64]\n",
      " [76, 100]\n",
      " [103, 136]]\n",
      "\n",
      "The product CD = \n",
      "[[35, 50]\n",
      " [75, 110]]\n",
      "\n"
     ]
    }
   ],
   "source": [
    "# Demonstrate the matrix_mult function. Format the printed output using matrix_print for legibility.\n",
    "\n",
    "print('M = \\n{}\\n'.format(matrix_print(M)))\n",
    "print('N = \\n{}\\n'.format(matrix_print(N)))\n",
    "print('The product MN = \\n{}\\n'.format(matrix_print(matrix_mult(M,N))))\n",
    "\n",
    "print('The product CD = \\n{}\\n'.format(matrix_print(matrix_mult(C,D))))"
   ]
  },
  {
   "cell_type": "code",
   "execution_count": 208,
   "metadata": {},
   "outputs": [
    {
     "name": "stdout",
     "output_type": "stream",
     "text": [
      "Given the following matrix: \n",
      "[[5, 10]\n",
      " [15, 20]]\n",
      "\n",
      "Its inverse is: \n",
      "[[-0.4, 0.2]\n",
      " [0.3, -0.1]]\n",
      "\n"
     ]
    }
   ],
   "source": [
    "# Demonstrate the matrix_inv function. Format the printed output using matrix_print for legibility.\n",
    "\n",
    "# Change the example matrix here:\n",
    "matrix = C\n",
    "\n",
    "print('Given the following matrix: \\n{}\\n'.format(matrix_print(matrix)))\n",
    "\n",
    "print('Its inverse is: \\n{}\\n'.format(matrix_print(matrix_inv(matrix))))"
   ]
  },
  {
   "cell_type": "code",
   "execution_count": 209,
   "metadata": {},
   "outputs": [
    {
     "name": "stdout",
     "output_type": "stream",
     "text": [
      "Output from fit function:\n",
      "[[-99.46431881371245]\n",
      " [564.2038924930494]]\n",
      "\n",
      "Output from linreg_weights function:\n",
      "[[-99.46431881]\n",
      " [564.20389249]]\n",
      "\n"
     ]
    }
   ],
   "source": [
    "# Compare the output from the fit function against output from linreg_weights\n",
    "\n",
    "# Print the output from the fit function using inputs X and y\n",
    "print('Output from fit function:\\n{}\\n'.format(matrix_print(fit(X,y))))\n",
    "\n",
    "# Print the output from the provided linreg_weights function using the same inputs X and y\n",
    "print('Output from linreg_weights function:\\n{}\\n'.format(linreg_weights(X,y)))"
   ]
  },
  {
   "cell_type": "code",
   "execution_count": 210,
   "metadata": {},
   "outputs": [
    {
     "name": "stdout",
     "output_type": "stream",
     "text": [
      "Output from predict function:\n",
      "[[1452.0963855421733]\n",
      " [1311.045412418911]\n",
      " [1311.045412418911]\n",
      " [1311.045412418911]\n",
      " [1311.045412418911]\n",
      " [1311.045412418911]\n",
      " [1311.045412418911]\n",
      " [1169.9944392956486]\n",
      " [1169.9944392956486]\n",
      " [1169.9944392956486]\n",
      " [1028.9434661723863]\n",
      " [1028.9434661723863]\n",
      " [1028.9434661723863]\n",
      " [887.8924930491239]\n",
      " [887.8924930491239]\n",
      " [887.8924930491239]\n",
      " [887.8924930491239]\n",
      " [887.8924930491239]\n",
      " [887.8924930491239]\n",
      " [887.8924930491239]\n",
      " [887.8924930491239]\n",
      " [887.8924930491239]\n",
      " [887.8924930491239]\n",
      " [887.8924930491239]]\n",
      "\n",
      "Output from linreg_predict function:\n",
      "[[1452.09638554]\n",
      " [1311.04541242]\n",
      " [1311.04541242]\n",
      " [1311.04541242]\n",
      " [1311.04541242]\n",
      " [1311.04541242]\n",
      " [1311.04541242]\n",
      " [1169.9944393 ]\n",
      " [1169.9944393 ]\n",
      " [1169.9944393 ]\n",
      " [1028.94346617]\n",
      " [1028.94346617]\n",
      " [1028.94346617]\n",
      " [ 887.89249305]\n",
      " [ 887.89249305]\n",
      " [ 887.89249305]\n",
      " [ 887.89249305]\n",
      " [ 887.89249305]\n",
      " [ 887.89249305]\n",
      " [ 887.89249305]\n",
      " [ 887.89249305]\n",
      " [ 887.89249305]\n",
      " [ 887.89249305]\n",
      " [ 887.89249305]]\n",
      "\n"
     ]
    }
   ],
   "source": [
    "# Print the output from the predict function\n",
    "print('Output from predict function:\\n{}\\n'.format(matrix_print(predict(fit(X,y),X))))\n",
    "\n",
    "# Print the output from the provided linreg_predict function using the same inputs\n",
    "print('Output from linreg_predict function:\\n{}\\n'.format(linreg_predict(linreg_weights(X,y),X)))"
   ]
  },
  {
   "cell_type": "code",
   "execution_count": 211,
   "metadata": {},
   "outputs": [
    {
     "name": "stdout",
     "output_type": "stream",
     "text": [
      "Weight parameter w1 is: -99.46431881371245.\n",
      "Weight parameter w2 is: 564.2038924930494.\n"
     ]
    }
   ],
   "source": [
    "# Check that the get_params function works correctly with the fit function to return the weight parameters\n",
    "\n",
    "# Assign the returned parameters to a pair of variables w1 & w2\n",
    "w1, w2 = get_params(fit(X,y))\n",
    "\n",
    "# Print the parameters\n",
    "print(\"Weight parameter w1 is: {}.\\nWeight parameter w2 is: {}.\".format(w1, w2))"
   ]
  },
  {
   "cell_type": "markdown",
   "metadata": {},
   "source": [
    "<hr style=\"border:2px solid gray\"> </hr>"
   ]
  },
  {
   "cell_type": "markdown",
   "metadata": {},
   "source": [
    "## Reflection"
   ]
  },
  {
   "cell_type": "markdown",
   "metadata": {},
   "source": [
    "Write your reflection in below cell."
   ]
  },
  {
   "cell_type": "code",
   "execution_count": null,
   "metadata": {},
   "outputs": [],
   "source": []
  }
 ],
 "metadata": {
  "kernelspec": {
   "display_name": "Python 3",
   "language": "python",
   "name": "python3"
  },
  "language_info": {
   "codemirror_mode": {
    "name": "ipython",
    "version": 3
   },
   "file_extension": ".py",
   "mimetype": "text/x-python",
   "name": "python",
   "nbconvert_exporter": "python",
   "pygments_lexer": "ipython3",
   "version": "3.8.8"
  }
 },
 "nbformat": 4,
 "nbformat_minor": 2
}
