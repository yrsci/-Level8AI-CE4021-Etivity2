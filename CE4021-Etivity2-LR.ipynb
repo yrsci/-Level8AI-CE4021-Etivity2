{
 "cells": [
  {
   "cell_type": "markdown",
   "metadata": {},
   "source": [
    "## Notebook E-tivity 2 CE4021 Linear Regression"
   ]
  },
  {
   "cell_type": "markdown",
   "metadata": {},
   "source": [
    "Student name: Yvonne Ryan"
   ]
  },
  {
   "cell_type": "markdown",
   "metadata": {},
   "source": [
    "Student ID: 21208298"
   ]
  },
  {
   "cell_type": "markdown",
   "metadata": {},
   "source": [
    "<hr style=\"border:2px solid gray\"> </hr>"
   ]
  },
  {
   "cell_type": "markdown",
   "metadata": {},
   "source": [
    "## Imports"
   ]
  },
  {
   "cell_type": "code",
   "execution_count": 326,
   "metadata": {},
   "outputs": [],
   "source": [
    "import numpy as np\n",
    "import matplotlib.pyplot as plt"
   ]
  },
  {
   "cell_type": "markdown",
   "metadata": {},
   "source": [
    "If you believe required imports are missing, please contact your moderator."
   ]
  },
  {
   "cell_type": "markdown",
   "metadata": {},
   "source": [
    "<hr style=\"border:2px solid gray\"> </hr>"
   ]
  },
  {
   "cell_type": "markdown",
   "metadata": {},
   "source": [
    "## Reference Implementation"
   ]
  },
  {
   "cell_type": "code",
   "execution_count": 327,
   "metadata": {},
   "outputs": [],
   "source": [
    "def linreg_weights(X,y):\n",
    "    # Calculation of weights using pseudo-inverse. Note that X needs to contain the bias of 1\n",
    "    return np.linalg.inv((X.T.dot(X))).dot(X.T).dot(y)"
   ]
  },
  {
   "cell_type": "code",
   "execution_count": 451,
   "metadata": {},
   "outputs": [],
   "source": [
    "def linreg_predict(w,X):\n",
    "    # Calculation of outputs given weights and data (X). Note that X needs to contain the bias of 1. \n",
    "    out=[]\n",
    "    for x in X:\n",
    "        out.append(w.T.dot(x))\n",
    "    return np.array(out)"
   ]
  },
  {
   "cell_type": "markdown",
   "metadata": {},
   "source": [
    "Load data from file (including bias of 1)"
   ]
  },
  {
   "cell_type": "code",
   "execution_count": 362,
   "metadata": {},
   "outputs": [],
   "source": [
    "data = np.loadtxt('lr_data.csv', delimiter=',')\n",
    "X = data[:,0:2]\n",
    "y= [[data[i,2]] for i in range(0,len(data[:,2]))]"
   ]
  },
  {
   "cell_type": "markdown",
   "metadata": {},
   "source": [
    "Apply data to linear regression algorithm to obtain weights"
   ]
  },
  {
   "cell_type": "code",
   "execution_count": 363,
   "metadata": {},
   "outputs": [
    {
     "data": {
      "text/plain": [
       "array([[-99.46431881],\n",
       "       [564.20389249]])"
      ]
     },
     "execution_count": 363,
     "metadata": {},
     "output_type": "execute_result"
    }
   ],
   "source": [
    "weights = linreg_weights(X,y)\n",
    "weights"
   ]
  },
  {
   "cell_type": "code",
   "execution_count": 364,
   "metadata": {},
   "outputs": [
    {
     "data": {
      "text/plain": [
       "(0.0, 3.0, -100.0, 1500.0)"
      ]
     },
     "execution_count": 364,
     "metadata": {},
     "output_type": "execute_result"
    },
    {
     "data": {
      "image/png": "[encoded data removed]",
      "text/plain": [
       "<Figure size 432x288 with 1 Axes>"
      ]
     },
     "metadata": {
      "needs_background": "light"
     },
     "output_type": "display_data"
    }
   ],
   "source": [
    "ind = np.arange(0,2.8,0.1)\n",
    "plt.plot(X[:,1],y,'.')\n",
    "plt.plot(ind, ind*weights[1]+weights[0],'r')\n",
    "plt.axis([0, 3, -100, 1500])"
   ]
  },
  {
   "cell_type": "markdown",
   "metadata": {},
   "source": [
    "<hr style=\"border:2px solid gray\"> </hr>"
   ]
  },
  {
   "cell_type": "markdown",
   "metadata": {},
   "source": [
    "## Task"
   ]
  },
  {
   "cell_type": "markdown",
   "metadata": {},
   "source": [
    "You may add as many cells as you require to complete this task."
   ]
  },
  {
   "cell_type": "markdown",
   "metadata": {},
   "source": [
    "### Solution"
   ]
  },
  {
   "cell_type": "markdown",
   "metadata": {},
   "source": [
    "First, we define 3 matrix manipulations: Transpose, Multiply and Invert. "
   ]
  },
  {
   "cell_type": "code",
   "execution_count": 365,
   "metadata": {},
   "outputs": [],
   "source": [
    "def matrix_tran(A):\n",
    "    '''\n",
    "    Calculates the transpose of a matrix A.\n",
    "    ''' \n",
    "    n_rows, n_cols = len(A), len(A[0])\n",
    "    \n",
    "    element_list = []\n",
    "    for i in range(0, n_cols):\n",
    "        for j in range(0, n_rows):\n",
    "            element_list.append(A[j][i])\n",
    "    \n",
    "    T = []\n",
    "    for i in range(0, len(element_list), n_rows):\n",
    "        n = i + n_rows\n",
    "        T.append(element_list[i:n])\n",
    "\n",
    "    return T"
   ]
  },
  {
   "cell_type": "code",
   "execution_count": 366,
   "metadata": {},
   "outputs": [],
   "source": [
    "def matrix_mult(A,B):\n",
    "    '''\n",
    "    Calculate the product of 2 matrices.\n",
    "    '''\n",
    "    C = [ [] for x in range(0, len(A))]\n",
    "    \n",
    "    for i in range(0, len(A)):\n",
    "        for j in range(0, len(B[0])):\n",
    "            term = 0\n",
    "            for k in range(0, len(B)):\n",
    "                term += A[i][k] * B[k][j]\n",
    "            C[i].append(term)\n",
    "\n",
    "    return C    "
   ]
  },
  {
   "cell_type": "code",
   "execution_count": 367,
   "metadata": {},
   "outputs": [],
   "source": [
    "def matrix_inv(A):\n",
    "    '''\n",
    "    Calculate the inverse of a 2x2 matrix.\n",
    "    '''\n",
    "    \n",
    "    def det(A):\n",
    "        '''\n",
    "        Calculate the determinant of a 2x2 matrix.\n",
    "        '''\n",
    "        return float(A[0][0]*A[1][1]) - (A[0][1]*A[1][0])\n",
    "    \n",
    "    A_inv = [[A[1][1], -1 * A[0][1]], [-1 * A[1][0], A[0][0]]]\n",
    "    for i in range(0,len(A_inv)):\n",
    "        for j in range(0,len(A_inv[0])):\n",
    "            A_inv[i][j] *= det(A)**(-1)\n",
    "            \n",
    "    return A_inv"
   ]
  },
  {
   "cell_type": "markdown",
   "metadata": {},
   "source": [
    "For improved readibility, the next function prints list-based matrices in a similar way to how Python prints numpy matrices."
   ]
  },
  {
   "cell_type": "code",
   "execution_count": 534,
   "metadata": {},
   "outputs": [],
   "source": [
    "def matrix_print(A):\n",
    "    '''\n",
    "    Prints a list-based matrix the same way NumPy matrices are printed.\n",
    "    '''\n",
    "    if len(A) == 1:\n",
    "        string = '[{}]'.format(A[0])\n",
    "    else:\n",
    "        string = '[{}\\n'.format(A[0])\n",
    "        for i in range(1,len(A)-1):\n",
    "            string += ' {}\\n'.format(A[i])\n",
    "        string += ' {}]'.format(A[-1])\n",
    "    \n",
    "    return string"
   ]
  },
  {
   "cell_type": "markdown",
   "metadata": {},
   "source": [
    "Now we reproduce the functions linreg_weights and linreg_predict using these three functions."
   ]
  },
  {
   "cell_type": "code",
   "execution_count": 490,
   "metadata": {},
   "outputs": [],
   "source": [
    "def fit(X,y):\n",
    "    \"\"\"\n",
    "    Calculate weights for the linear regression.\n",
    "    \"\"\"\n",
    "    return matrix_mult(matrix_inv(matrix_mult(matrix_tran(X),X)), matrix_mult(matrix_tran(X), y))"
   ]
  },
  {
   "cell_type": "code",
   "execution_count": 491,
   "metadata": {},
   "outputs": [],
   "source": [
    "def predict(w,X):\n",
    "    '''\n",
    "    '''\n",
    "    output = []\n",
    "    for x in X:\n",
    "        list_x = []\n",
    "        for val in x:\n",
    "            list_x.append(float(val))\n",
    "\n",
    "        output.append(matrix_mult(matrix_trans(w), matrix_trans([x]))[0])\n",
    "    \n",
    "    return(output)"
   ]
  },
  {
   "cell_type": "markdown",
   "metadata": {},
   "source": [
    "### Testing"
   ]
  },
  {
   "cell_type": "code",
   "execution_count": 548,
   "metadata": {},
   "outputs": [],
   "source": [
    "# Test matrices\n",
    "\n",
    "# M is a 4x3 matrix\n",
    "M = [[1,2,3],[4,5,6],[7,8,9],[10,11,12]]\n",
    "\n",
    "# N is a 3x2 matrix\n",
    "N = [[1,2],[3,4],[5,6]]\n",
    "\n",
    "# P is a 3x3 matrix\n",
    "P = [[4,5,6],[7,8,9],[10,11,12]]\n",
    "\n",
    "# A is a 1x2 matrix\n",
    "A = [[1,2]]\n",
    "\n",
    "# B is a 2x1 matrix\n",
    "B = [[2],[3]]"
   ]
  },
  {
   "cell_type": "code",
   "execution_count": 546,
   "metadata": {},
   "outputs": [
    {
     "name": "stdout",
     "output_type": "stream",
     "text": [
      "Print raw list representation of a matrix: \n",
      "[[1, 2, 3], [4, 5, 6], [7, 8, 9], [10, 11, 12]]\n",
      "\n",
      "Print the same matrix in readable manner: \n",
      "[[1, 2, 3]\n",
      " [4, 5, 6]\n",
      " [7, 8, 9]\n",
      " [10, 11, 12]]\n",
      "\n",
      "Print its transpose: \n",
      "[[1, 4, 7, 10]\n",
      " [2, 5, 8, 11]\n",
      " [3, 6, 9, 12]]\n",
      "\n"
     ]
    }
   ],
   "source": [
    "# Demonstrate the matrix_print function\n",
    "\n",
    "# Change the example matrix here:\n",
    "matrix = M\n",
    "\n",
    "print('Print raw list representation of a matrix: \\n{}\\n'.format(matrix))\n",
    "\n",
    "print('Print the same matrix in readable manner: \\n{}\\n'.format(matrix_print(matrix)))\n",
    "\n",
    "print('Print its transpose: \\n{}\\n'.format(matrix_print(matrix_trans(matrix))))"
   ]
  },
  {
   "cell_type": "markdown",
   "metadata": {},
   "source": [
    "Testing output from the fit function against output from linreg_weights:"
   ]
  },
  {
   "cell_type": "code",
   "execution_count": 549,
   "metadata": {},
   "outputs": [
    {
     "name": "stdout",
     "output_type": "stream",
     "text": [
      "Output from fit function:\n",
      "[[-99.46431881371245]\n",
      " [564.2038924930494]]\n",
      "\n",
      "Output from linreg_weights function:\n",
      "[[-99.46431881]\n",
      " [564.20389249]]\n",
      "\n"
     ]
    }
   ],
   "source": [
    "print('Output from fit function:\\n{}\\n'.format(matrix_print(fit(X,y))))\n",
    "print('Output from linreg_weights function:\\n{}\\n'.format(linreg_weights(X,y)))"
   ]
  },
  {
   "cell_type": "code",
   "execution_count": 550,
   "metadata": {},
   "outputs": [
    {
     "name": "stdout",
     "output_type": "stream",
     "text": [
      "Output from predict function:\n",
      "[[1452.0963855421733]\n",
      " [1311.045412418911]\n",
      " [1311.045412418911]\n",
      " [1311.045412418911]\n",
      " [1311.045412418911]\n",
      " [1311.045412418911]\n",
      " [1311.045412418911]\n",
      " [1169.9944392956486]\n",
      " [1169.9944392956486]\n",
      " [1169.9944392956486]\n",
      " [1028.9434661723863]\n",
      " [1028.9434661723863]\n",
      " [1028.9434661723863]\n",
      " [887.8924930491239]\n",
      " [887.8924930491239]\n",
      " [887.8924930491239]\n",
      " [887.8924930491239]\n",
      " [887.8924930491239]\n",
      " [887.8924930491239]\n",
      " [887.8924930491239]\n",
      " [887.8924930491239]\n",
      " [887.8924930491239]\n",
      " [887.8924930491239]\n",
      " [887.8924930491239]]\n",
      "\n",
      "Output from linreg_predict function:\n",
      "[[1452.09638554]\n",
      " [1311.04541242]\n",
      " [1311.04541242]\n",
      " [1311.04541242]\n",
      " [1311.04541242]\n",
      " [1311.04541242]\n",
      " [1311.04541242]\n",
      " [1169.9944393 ]\n",
      " [1169.9944393 ]\n",
      " [1169.9944393 ]\n",
      " [1028.94346617]\n",
      " [1028.94346617]\n",
      " [1028.94346617]\n",
      " [ 887.89249305]\n",
      " [ 887.89249305]\n",
      " [ 887.89249305]\n",
      " [ 887.89249305]\n",
      " [ 887.89249305]\n",
      " [ 887.89249305]\n",
      " [ 887.89249305]\n",
      " [ 887.89249305]\n",
      " [ 887.89249305]\n",
      " [ 887.89249305]\n",
      " [ 887.89249305]]\n",
      "\n"
     ]
    }
   ],
   "source": [
    "print('Output from predict function:\\n{}\\n'.format(matrix_print(predict(fit(X,y),X))))\n",
    "\n",
    "print('Output from linreg_predict function:\\n{}\\n'.format(linreg_predict(linreg_weights(X,y),X)))"
   ]
  },
  {
   "cell_type": "markdown",
   "metadata": {},
   "source": [
    "<hr style=\"border:2px solid gray\"> </hr>"
   ]
  },
  {
   "cell_type": "markdown",
   "metadata": {},
   "source": [
    "## Reflection"
   ]
  },
  {
   "cell_type": "markdown",
   "metadata": {},
   "source": [
    "Write your reflection in below cell."
   ]
  },
  {
   "cell_type": "code",
   "execution_count": null,
   "metadata": {},
   "outputs": [],
   "source": []
  }
 ],
 "metadata": {
  "kernelspec": {
   "display_name": "Python 3",
   "language": "python",
   "name": "python3"
  },
  "language_info": {
   "codemirror_mode": {
    "name": "ipython",
    "version": 3
   },
   "file_extension": ".py",
   "mimetype": "text/x-python",
   "name": "python",
   "nbconvert_exporter": "python",
   "pygments_lexer": "ipython3",
   "version": "3.8.8"
  }
 },
 "nbformat": 4,
 "nbformat_minor": 2
}
